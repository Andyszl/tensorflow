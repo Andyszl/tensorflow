{
 "cells": [
  {
   "cell_type": "markdown",
   "metadata": {},
   "source": [
    "### 基础操作"
   ]
  },
  {
   "cell_type": "code",
   "execution_count": 1,
   "metadata": {},
   "outputs": [],
   "source": [
    "import tensorflow as tf\n",
    "import numpy as np"
   ]
  },
  {
   "cell_type": "code",
   "execution_count": 2,
   "metadata": {},
   "outputs": [
    {
     "data": {
      "text/plain": [
       "'2.2.0'"
      ]
     },
     "execution_count": 2,
     "metadata": {},
     "output_type": "execute_result"
    }
   ],
   "source": [
    "tf.__version__"
   ]
  },
  {
   "cell_type": "code",
   "execution_count": 3,
   "metadata": {},
   "outputs": [
    {
     "name": "stdout",
     "output_type": "stream",
     "text": [
      "tf.Tensor([[1.]], shape=(1, 1), dtype=float32)\n"
     ]
    }
   ],
   "source": [
    "x = [[1.]]\n",
    "m = tf.matmul(x, x)\n",
    "print(m)"
   ]
  },
  {
   "cell_type": "code",
   "execution_count": 4,
   "metadata": {},
   "outputs": [
    {
     "data": {
      "text/plain": [
       "<tf.Tensor: shape=(2, 2), dtype=int32, numpy=\n",
       "array([[1, 9],\n",
       "       [3, 6]], dtype=int32)>"
      ]
     },
     "execution_count": 4,
     "metadata": {},
     "output_type": "execute_result"
    }
   ],
   "source": [
    "x = tf.constant([[1,9],[3,6]])\n",
    "x"
   ]
  },
  {
   "cell_type": "code",
   "execution_count": 5,
   "metadata": {},
   "outputs": [
    {
     "data": {
      "text/plain": [
       "<tf.Tensor: shape=(2, 2), dtype=int32, numpy=\n",
       "array([[ 2, 10],\n",
       "       [ 4,  7]], dtype=int32)>"
      ]
     },
     "execution_count": 5,
     "metadata": {},
     "output_type": "execute_result"
    }
   ],
   "source": [
    "x = tf.add(x, 1)\n",
    "x"
   ]
  },
  {
   "cell_type": "markdown",
   "metadata": {},
   "source": [
    "### numpy转换"
   ]
  },
  {
   "cell_type": "code",
   "execution_count": 6,
   "metadata": {},
   "outputs": [
    {
     "data": {
      "text/plain": [
       "array([[ 2, 10],\n",
       "       [ 4,  7]], dtype=int32)"
      ]
     },
     "execution_count": 6,
     "metadata": {},
     "output_type": "execute_result"
    }
   ],
   "source": [
    "x.numpy()"
   ]
  },
  {
   "cell_type": "markdown",
   "metadata": {},
   "source": [
    "### 格式转换"
   ]
  },
  {
   "cell_type": "code",
   "execution_count": 7,
   "metadata": {},
   "outputs": [
    {
     "data": {
      "text/plain": [
       "<tf.Tensor: shape=(2, 2), dtype=float32, numpy=\n",
       "array([[ 2., 10.],\n",
       "       [ 4.,  7.]], dtype=float32)>"
      ]
     },
     "execution_count": 7,
     "metadata": {},
     "output_type": "execute_result"
    }
   ],
   "source": [
    "x = tf.cast(x, tf.float32)\n",
    "x"
   ]
  },
  {
   "cell_type": "code",
   "execution_count": 8,
   "metadata": {},
   "outputs": [
    {
     "data": {
      "text/plain": [
       "<tf.Tensor: shape=(2, 2), dtype=float64, numpy=\n",
       "array([[2., 2.],\n",
       "       [2., 2.]])>"
      ]
     },
     "execution_count": 8,
     "metadata": {},
     "output_type": "execute_result"
    }
   ],
   "source": [
    "x1 = np.ones([2,2])\n",
    "x2 = tf.multiply(x1, 2)\n",
    "x2"
   ]
  },
  {
   "cell_type": "markdown",
   "metadata": {},
   "source": [
    "### 气温数据集演练"
   ]
  },
  {
   "cell_type": "code",
   "execution_count": 11,
   "metadata": {},
   "outputs": [],
   "source": [
    "import numpy as np\n",
    "import pandas as pd \n",
    "import matplotlib.pyplot as plt\n",
    "import tensorflow as tf\n",
    "from tensorflow.keras import layers\n",
    "import tensorflow.keras\n",
    "import warnings\n",
    "warnings.filterwarnings(\"ignore\")\n",
    "%matplotlib inline"
   ]
  },
  {
   "cell_type": "code",
   "execution_count": 13,
   "metadata": {},
   "outputs": [
    {
     "data": {
      "text/html": [
       "<div>\n",
       "<style scoped>\n",
       "    .dataframe tbody tr th:only-of-type {\n",
       "        vertical-align: middle;\n",
       "    }\n",
       "\n",
       "    .dataframe tbody tr th {\n",
       "        vertical-align: top;\n",
       "    }\n",
       "\n",
       "    .dataframe thead th {\n",
       "        text-align: right;\n",
       "    }\n",
       "</style>\n",
       "<table border=\"1\" class=\"dataframe\">\n",
       "  <thead>\n",
       "    <tr style=\"text-align: right;\">\n",
       "      <th></th>\n",
       "      <th>year</th>\n",
       "      <th>month</th>\n",
       "      <th>day</th>\n",
       "      <th>week</th>\n",
       "      <th>temp_2</th>\n",
       "      <th>temp_1</th>\n",
       "      <th>average</th>\n",
       "      <th>actual</th>\n",
       "      <th>friend</th>\n",
       "    </tr>\n",
       "  </thead>\n",
       "  <tbody>\n",
       "    <tr>\n",
       "      <th>0</th>\n",
       "      <td>2016</td>\n",
       "      <td>1</td>\n",
       "      <td>1</td>\n",
       "      <td>Fri</td>\n",
       "      <td>45</td>\n",
       "      <td>45</td>\n",
       "      <td>45.6</td>\n",
       "      <td>45</td>\n",
       "      <td>29</td>\n",
       "    </tr>\n",
       "    <tr>\n",
       "      <th>1</th>\n",
       "      <td>2016</td>\n",
       "      <td>1</td>\n",
       "      <td>2</td>\n",
       "      <td>Sat</td>\n",
       "      <td>44</td>\n",
       "      <td>45</td>\n",
       "      <td>45.7</td>\n",
       "      <td>44</td>\n",
       "      <td>61</td>\n",
       "    </tr>\n",
       "    <tr>\n",
       "      <th>2</th>\n",
       "      <td>2016</td>\n",
       "      <td>1</td>\n",
       "      <td>3</td>\n",
       "      <td>Sun</td>\n",
       "      <td>45</td>\n",
       "      <td>44</td>\n",
       "      <td>45.8</td>\n",
       "      <td>41</td>\n",
       "      <td>56</td>\n",
       "    </tr>\n",
       "    <tr>\n",
       "      <th>3</th>\n",
       "      <td>2016</td>\n",
       "      <td>1</td>\n",
       "      <td>4</td>\n",
       "      <td>Mon</td>\n",
       "      <td>44</td>\n",
       "      <td>41</td>\n",
       "      <td>45.9</td>\n",
       "      <td>40</td>\n",
       "      <td>53</td>\n",
       "    </tr>\n",
       "    <tr>\n",
       "      <th>4</th>\n",
       "      <td>2016</td>\n",
       "      <td>1</td>\n",
       "      <td>5</td>\n",
       "      <td>Tues</td>\n",
       "      <td>41</td>\n",
       "      <td>40</td>\n",
       "      <td>46.0</td>\n",
       "      <td>44</td>\n",
       "      <td>41</td>\n",
       "    </tr>\n",
       "  </tbody>\n",
       "</table>\n",
       "</div>"
      ],
      "text/plain": [
       "   year  month  day  week  temp_2  temp_1  average  actual  friend\n",
       "0  2016      1    1   Fri      45      45     45.6      45      29\n",
       "1  2016      1    2   Sat      44      45     45.7      44      61\n",
       "2  2016      1    3   Sun      45      44     45.8      41      56\n",
       "3  2016      1    4   Mon      44      41     45.9      40      53\n",
       "4  2016      1    5  Tues      41      40     46.0      44      41"
      ]
     },
     "execution_count": 13,
     "metadata": {},
     "output_type": "execute_result"
    }
   ],
   "source": [
    "features = pd.read_csv('temps.csv')\n",
    "\n",
    "#看看数据长什么样子\n",
    "features.head()"
   ]
  },
  {
   "cell_type": "markdown",
   "metadata": {},
   "source": [
    "数据表中\n",
    "* year,moth,day,week分别表示的具体的时间\n",
    "* temp_2：前天的最高温度值\n",
    "* temp_1：昨天的最高温度值\n",
    "* average：在历史中，每年这一天的平均最高温度值\n",
    "* actual：这就是我们的标签值了，当天的真实最高温度\n",
    "* friend：这一列可能是凑热闹的，你的朋友猜测的可能值，咱们不管它就好了"
   ]
  },
  {
   "cell_type": "code",
   "execution_count": 14,
   "metadata": {},
   "outputs": [
    {
     "name": "stdout",
     "output_type": "stream",
     "text": [
      "数据维度: (348, 9)\n"
     ]
    }
   ],
   "source": [
    "print('数据维度:', features.shape)"
   ]
  },
  {
   "cell_type": "code",
   "execution_count": 15,
   "metadata": {},
   "outputs": [],
   "source": [
    "# 处理时间数据\n",
    "import datetime\n",
    "\n",
    "# 分别得到年，月，日\n",
    "years = features['year']\n",
    "months = features['month']\n",
    "days = features['day']\n",
    "\n",
    "# datetime格式\n",
    "dates = [str(int(year)) + '-' + str(int(month)) + '-' + str(int(day)) for year, month, day in zip(years, months, days)]\n",
    "dates = [datetime.datetime.strptime(date, '%Y-%m-%d') for date in dates]"
   ]
  },
  {
   "cell_type": "code",
   "execution_count": 16,
   "metadata": {},
   "outputs": [
    {
     "data": {
      "text/plain": [
       "[datetime.datetime(2016, 1, 1, 0, 0),\n",
       " datetime.datetime(2016, 1, 2, 0, 0),\n",
       " datetime.datetime(2016, 1, 3, 0, 0),\n",
       " datetime.datetime(2016, 1, 4, 0, 0),\n",
       " datetime.datetime(2016, 1, 5, 0, 0)]"
      ]
     },
     "execution_count": 16,
     "metadata": {},
     "output_type": "execute_result"
    }
   ],
   "source": [
    "dates[:5]"
   ]
  },
  {
   "cell_type": "code",
   "execution_count": 19,
   "metadata": {},
   "outputs": [
    {
     "data": {
      "image/png": "[encoded data removed]",
      "text/plain": [
       "<Figure size 1080x720 with 4 Axes>"
      ]
     },
     "metadata": {},
     "output_type": "display_data"
    }
   ],
   "source": [
    "# 准备画图\n",
    "# 指定默认风格\n",
    "plt.style.use('fivethirtyeight')\n",
    "\n",
    "# 设置布局\n",
    "fig, ((ax1, ax2), (ax3, ax4)) = plt.subplots(nrows=2, ncols=2, figsize = (15,10))\n",
    "fig.autofmt_xdate(rotation = 45)\n",
    "\n",
    "# 标签值\n",
    "ax1.plot(dates, features['actual'])\n",
    "ax1.set_xlabel(''); ax1.set_ylabel('Temperature'); ax1.set_title('Max Temp')\n",
    "\n",
    "# 昨天\n",
    "ax2.plot(dates, features['temp_1'])\n",
    "ax2.set_xlabel(''); ax2.set_ylabel('Temperature'); ax2.set_title('Previous Max Temp')\n",
    "\n",
    "# 前天\n",
    "ax3.plot(dates, features['temp_2'])\n",
    "ax3.set_xlabel('Date'); ax3.set_ylabel('Temperature'); ax3.set_title('Two Days Prior Max Temp')\n",
    "\n",
    "# 我的逗逼朋友\n",
    "ax4.plot(dates, features['friend'])\n",
    "ax4.set_xlabel('Date'); ax4.set_ylabel('Temperature'); ax4.set_title('Friend Estimate')\n",
    "\n",
    "plt.tight_layout(pad=2)"
   ]
  },
  {
   "cell_type": "code",
   "execution_count": 20,
   "metadata": {},
   "outputs": [
    {
     "data": {
      "text/html": [
       "<div>\n",
       "<style scoped>\n",
       "    .dataframe tbody tr th:only-of-type {\n",
       "        vertical-align: middle;\n",
       "    }\n",
       "\n",
       "    .dataframe tbody tr th {\n",
       "        vertical-align: top;\n",
       "    }\n",
       "\n",
       "    .dataframe thead th {\n",
       "        text-align: right;\n",
       "    }\n",
       "</style>\n",
       "<table border=\"1\" class=\"dataframe\">\n",
       "  <thead>\n",
       "    <tr style=\"text-align: right;\">\n",
       "      <th></th>\n",
       "      <th>year</th>\n",
       "      <th>month</th>\n",
       "      <th>day</th>\n",
       "      <th>temp_2</th>\n",
       "      <th>temp_1</th>\n",
       "      <th>average</th>\n",
       "      <th>actual</th>\n",
       "      <th>friend</th>\n",
       "      <th>week_Fri</th>\n",
       "      <th>week_Mon</th>\n",
       "      <th>week_Sat</th>\n",
       "      <th>week_Sun</th>\n",
       "      <th>week_Thurs</th>\n",
       "      <th>week_Tues</th>\n",
       "      <th>week_Wed</th>\n",
       "    </tr>\n",
       "  </thead>\n",
       "  <tbody>\n",
       "    <tr>\n",
       "      <th>0</th>\n",
       "      <td>2016</td>\n",
       "      <td>1</td>\n",
       "      <td>1</td>\n",
       "      <td>45</td>\n",
       "      <td>45</td>\n",
       "      <td>45.6</td>\n",
       "      <td>45</td>\n",
       "      <td>29</td>\n",
       "      <td>1</td>\n",
       "      <td>0</td>\n",
       "      <td>0</td>\n",
       "      <td>0</td>\n",
       "      <td>0</td>\n",
       "      <td>0</td>\n",
       "      <td>0</td>\n",
       "    </tr>\n",
       "    <tr>\n",
       "      <th>1</th>\n",
       "      <td>2016</td>\n",
       "      <td>1</td>\n",
       "      <td>2</td>\n",
       "      <td>44</td>\n",
       "      <td>45</td>\n",
       "      <td>45.7</td>\n",
       "      <td>44</td>\n",
       "      <td>61</td>\n",
       "      <td>0</td>\n",
       "      <td>0</td>\n",
       "      <td>1</td>\n",
       "      <td>0</td>\n",
       "      <td>0</td>\n",
       "      <td>0</td>\n",
       "      <td>0</td>\n",
       "    </tr>\n",
       "    <tr>\n",
       "      <th>2</th>\n",
       "      <td>2016</td>\n",
       "      <td>1</td>\n",
       "      <td>3</td>\n",
       "      <td>45</td>\n",
       "      <td>44</td>\n",
       "      <td>45.8</td>\n",
       "      <td>41</td>\n",
       "      <td>56</td>\n",
       "      <td>0</td>\n",
       "      <td>0</td>\n",
       "      <td>0</td>\n",
       "      <td>1</td>\n",
       "      <td>0</td>\n",
       "      <td>0</td>\n",
       "      <td>0</td>\n",
       "    </tr>\n",
       "    <tr>\n",
       "      <th>3</th>\n",
       "      <td>2016</td>\n",
       "      <td>1</td>\n",
       "      <td>4</td>\n",
       "      <td>44</td>\n",
       "      <td>41</td>\n",
       "      <td>45.9</td>\n",
       "      <td>40</td>\n",
       "      <td>53</td>\n",
       "      <td>0</td>\n",
       "      <td>1</td>\n",
       "      <td>0</td>\n",
       "      <td>0</td>\n",
       "      <td>0</td>\n",
       "      <td>0</td>\n",
       "      <td>0</td>\n",
       "    </tr>\n",
       "    <tr>\n",
       "      <th>4</th>\n",
       "      <td>2016</td>\n",
       "      <td>1</td>\n",
       "      <td>5</td>\n",
       "      <td>41</td>\n",
       "      <td>40</td>\n",
       "      <td>46.0</td>\n",
       "      <td>44</td>\n",
       "      <td>41</td>\n",
       "      <td>0</td>\n",
       "      <td>0</td>\n",
       "      <td>0</td>\n",
       "      <td>0</td>\n",
       "      <td>0</td>\n",
       "      <td>1</td>\n",
       "      <td>0</td>\n",
       "    </tr>\n",
       "  </tbody>\n",
       "</table>\n",
       "</div>"
      ],
      "text/plain": [
       "   year  month  day  temp_2  temp_1  average  actual  friend  week_Fri  \\\n",
       "0  2016      1    1      45      45     45.6      45      29         1   \n",
       "1  2016      1    2      44      45     45.7      44      61         0   \n",
       "2  2016      1    3      45      44     45.8      41      56         0   \n",
       "3  2016      1    4      44      41     45.9      40      53         0   \n",
       "4  2016      1    5      41      40     46.0      44      41         0   \n",
       "\n",
       "   week_Mon  week_Sat  week_Sun  week_Thurs  week_Tues  week_Wed  \n",
       "0         0         0         0           0          0         0  \n",
       "1         0         1         0           0          0         0  \n",
       "2         0         0         1           0          0         0  \n",
       "3         1         0         0           0          0         0  \n",
       "4         0         0         0           0          1         0  "
      ]
     },
     "execution_count": 20,
     "metadata": {},
     "output_type": "execute_result"
    }
   ],
   "source": [
    "# 独热编码-星期\n",
    "features = pd.get_dummies(features)\n",
    "features.head(5)"
   ]
  },
  {
   "cell_type": "code",
   "execution_count": 21,
   "metadata": {},
   "outputs": [],
   "source": [
    "# 标签\n",
    "labels = np.array(features['actual'])\n",
    "\n",
    "# 在特征中去掉标签\n",
    "features= features.drop('actual', axis = 1)\n",
    "\n",
    "# 名字单独保存一下，以备后患\n",
    "feature_list = list(features.columns)\n",
    "\n",
    "# 转换成合适的格式\n",
    "features = np.array(features)"
   ]
  },
  {
   "cell_type": "code",
   "execution_count": 22,
   "metadata": {},
   "outputs": [
    {
     "data": {
      "text/plain": [
       "(348, 14)"
      ]
     },
     "execution_count": 22,
     "metadata": {},
     "output_type": "execute_result"
    }
   ],
   "source": [
    "features.shape"
   ]
  },
  {
   "cell_type": "code",
   "execution_count": 24,
   "metadata": {},
   "outputs": [],
   "source": [
    "from sklearn import preprocessing\n",
    "input_features = preprocessing.StandardScaler().fit_transform(features)"
   ]
  },
  {
   "cell_type": "code",
   "execution_count": 25,
   "metadata": {},
   "outputs": [
    {
     "data": {
      "text/plain": [
       "array([ 0.        , -1.5678393 , -1.65682171, -1.48452388, -1.49443549,\n",
       "       -1.3470703 , -1.98891668,  2.44131112, -0.40482045, -0.40961596,\n",
       "       -0.40482045, -0.40482045, -0.41913682, -0.40482045])"
      ]
     },
     "execution_count": 25,
     "metadata": {},
     "output_type": "execute_result"
    }
   ],
   "source": [
    "input_features[0]"
   ]
  },
  {
   "cell_type": "code",
   "execution_count": 26,
   "metadata": {},
   "outputs": [],
   "source": [
    "model = tf.keras.Sequential()\n",
    "model.add(layers.Dense(16))\n",
    "model.add(layers.Dense(32))\n",
    "model.add(layers.Dense(1))"
   ]
  },
  {
   "cell_type": "markdown",
   "metadata": {},
   "source": [
    "compile相当于对网络进行配置，指定好优化器和损失函数等"
   ]
  },
  {
   "cell_type": "code",
   "execution_count": 27,
   "metadata": {},
   "outputs": [],
   "source": [
    "model.compile(optimizer=tf.keras.optimizers.SGD(0.001),\n",
    "             loss='mean_squared_error')"
   ]
  },
  {
   "cell_type": "code",
   "execution_count": 32,
   "metadata": {},
   "outputs": [
    {
     "name": "stdout",
     "output_type": "stream",
     "text": [
      "Epoch 1/100\n",
      "5/5 [==============================] - 0s 9ms/step - loss: 57.8379 - val_loss: 26.7633\n",
      "Epoch 2/100\n",
      "5/5 [==============================] - 0s 9ms/step - loss: 26.1885 - val_loss: 19.7989\n",
      "Epoch 3/100\n",
      "5/5 [==============================] - 0s 9ms/step - loss: 31.5171 - val_loss: 23.0292\n",
      "Epoch 4/100\n",
      "5/5 [==============================] - 0s 8ms/step - loss: 29.4475 - val_loss: 23.4370\n",
      "Epoch 5/100\n",
      "5/5 [==============================] - 0s 8ms/step - loss: 25.2228 - val_loss: 29.4650\n",
      "Epoch 6/100\n",
      "5/5 [==============================] - 0s 13ms/step - loss: 29.4784 - val_loss: 20.1529\n",
      "Epoch 7/100\n",
      "5/5 [==============================] - 0s 10ms/step - loss: 48.7709 - val_loss: 32.9640\n",
      "Epoch 8/100\n",
      "5/5 [==============================] - 0s 9ms/step - loss: 28.0443 - val_loss: 29.3023\n",
      "Epoch 9/100\n",
      "5/5 [==============================] - 0s 9ms/step - loss: 35.4501 - val_loss: 25.2688\n",
      "Epoch 10/100\n",
      "5/5 [==============================] - 0s 10ms/step - loss: 24.7102 - val_loss: 19.2906\n",
      "Epoch 11/100\n",
      "5/5 [==============================] - 0s 9ms/step - loss: 23.9410 - val_loss: 29.8942\n",
      "Epoch 12/100\n",
      "5/5 [==============================] - 0s 8ms/step - loss: 38.3633 - val_loss: 22.1855\n",
      "Epoch 13/100\n",
      "5/5 [==============================] - 0s 9ms/step - loss: 38.5418 - val_loss: 19.4144\n",
      "Epoch 14/100\n",
      "5/5 [==============================] - 0s 9ms/step - loss: 25.8065 - val_loss: 23.2191\n",
      "Epoch 15/100\n",
      "5/5 [==============================] - 0s 8ms/step - loss: 33.1152 - val_loss: 28.6765\n",
      "Epoch 16/100\n",
      "5/5 [==============================] - 0s 12ms/step - loss: 36.7135 - val_loss: 18.0326\n",
      "Epoch 17/100\n",
      "5/5 [==============================] - 0s 8ms/step - loss: 25.5694 - val_loss: 19.9974\n",
      "Epoch 18/100\n",
      "5/5 [==============================] - 0s 9ms/step - loss: 23.3032 - val_loss: 20.7473\n",
      "Epoch 19/100\n",
      "5/5 [==============================] - 0s 10ms/step - loss: 27.2213 - val_loss: 41.7277\n",
      "Epoch 20/100\n",
      "5/5 [==============================] - 0s 10ms/step - loss: 79.3039 - val_loss: 30.3838\n",
      "Epoch 21/100\n",
      "5/5 [==============================] - 0s 10ms/step - loss: 50.4175 - val_loss: 20.5862\n",
      "Epoch 22/100\n",
      "5/5 [==============================] - 0s 9ms/step - loss: 23.9910 - val_loss: 18.4882\n",
      "Epoch 23/100\n",
      "5/5 [==============================] - 0s 8ms/step - loss: 29.1307 - val_loss: 27.4140\n",
      "Epoch 24/100\n",
      "5/5 [==============================] - 0s 8ms/step - loss: 27.0570 - val_loss: 40.4164\n",
      "Epoch 25/100\n",
      "5/5 [==============================] - 0s 9ms/step - loss: 32.7594 - val_loss: 23.0197\n",
      "Epoch 26/100\n",
      "5/5 [==============================] - 0s 16ms/step - loss: 32.4710 - val_loss: 19.8326\n",
      "Epoch 27/100\n",
      "5/5 [==============================] - 0s 11ms/step - loss: 23.0301 - val_loss: 25.1775\n",
      "Epoch 28/100\n",
      "5/5 [==============================] - 0s 10ms/step - loss: 24.2579 - val_loss: 22.4069\n",
      "Epoch 29/100\n",
      "5/5 [==============================] - 0s 9ms/step - loss: 26.5794 - val_loss: 46.7433\n",
      "Epoch 30/100\n",
      "5/5 [==============================] - 0s 9ms/step - loss: 50.4127 - val_loss: 19.4785\n",
      "Epoch 31/100\n",
      "5/5 [==============================] - 0s 10ms/step - loss: 25.1812 - val_loss: 28.9933\n",
      "Epoch 32/100\n",
      "5/5 [==============================] - 0s 10ms/step - loss: 28.4879 - val_loss: 24.3185\n",
      "Epoch 33/100\n",
      "5/5 [==============================] - 0s 9ms/step - loss: 24.6140 - val_loss: 23.6241\n",
      "Epoch 34/100\n",
      "5/5 [==============================] - 0s 9ms/step - loss: 46.1086 - val_loss: 52.5525\n",
      "Epoch 35/100\n",
      "5/5 [==============================] - 0s 10ms/step - loss: 43.3325 - val_loss: 23.6116\n",
      "Epoch 36/100\n",
      "5/5 [==============================] - 0s 11ms/step - loss: 25.2119 - val_loss: 59.0496\n",
      "Epoch 37/100\n",
      "5/5 [==============================] - 0s 9ms/step - loss: 47.5666 - val_loss: 22.0526\n",
      "Epoch 38/100\n",
      "5/5 [==============================] - 0s 9ms/step - loss: 27.8284 - val_loss: 28.0563\n",
      "Epoch 39/100\n",
      "5/5 [==============================] - 0s 10ms/step - loss: 24.3550 - val_loss: 28.1838\n",
      "Epoch 40/100\n",
      "5/5 [==============================] - 0s 8ms/step - loss: 34.1977 - val_loss: 26.5685\n",
      "Epoch 41/100\n",
      "5/5 [==============================] - 0s 9ms/step - loss: 24.3173 - val_loss: 49.6121\n",
      "Epoch 42/100\n",
      "5/5 [==============================] - 0s 8ms/step - loss: 50.4328 - val_loss: 34.4349\n",
      "Epoch 43/100\n",
      "5/5 [==============================] - 0s 8ms/step - loss: 56.2665 - val_loss: 23.4363\n",
      "Epoch 44/100\n",
      "5/5 [==============================] - 0s 8ms/step - loss: 25.8393 - val_loss: 22.2111\n",
      "Epoch 45/100\n",
      "5/5 [==============================] - 0s 11ms/step - loss: 38.8027 - val_loss: 39.5277\n",
      "Epoch 46/100\n",
      "5/5 [==============================] - 0s 9ms/step - loss: 34.7878 - val_loss: 29.5679\n",
      "Epoch 47/100\n",
      "5/5 [==============================] - 0s 9ms/step - loss: 32.4767 - val_loss: 21.5050\n",
      "Epoch 48/100\n",
      "5/5 [==============================] - 0s 9ms/step - loss: 24.8672 - val_loss: 40.3753\n",
      "Epoch 49/100\n",
      "5/5 [==============================] - 0s 9ms/step - loss: 40.6115 - val_loss: 33.8785\n",
      "Epoch 50/100\n",
      "5/5 [==============================] - 0s 10ms/step - loss: 28.0252 - val_loss: 20.0211\n",
      "Epoch 51/100\n",
      "5/5 [==============================] - 0s 9ms/step - loss: 25.9126 - val_loss: 21.2527\n",
      "Epoch 52/100\n",
      "5/5 [==============================] - 0s 9ms/step - loss: 26.9921 - val_loss: 22.3064\n",
      "Epoch 53/100\n",
      "5/5 [==============================] - 0s 8ms/step - loss: 25.1530 - val_loss: 19.0176\n",
      "Epoch 54/100\n",
      "5/5 [==============================] - 0s 9ms/step - loss: 27.8375 - val_loss: 54.2366\n",
      "Epoch 55/100\n",
      "5/5 [==============================] - 0s 12ms/step - loss: 68.5186 - val_loss: 20.3789\n",
      "Epoch 56/100\n",
      "5/5 [==============================] - 0s 9ms/step - loss: 25.5372 - val_loss: 23.8732\n",
      "Epoch 57/100\n",
      "5/5 [==============================] - 0s 9ms/step - loss: 37.7207 - val_loss: 16.2551\n",
      "Epoch 58/100\n",
      "5/5 [==============================] - 0s 8ms/step - loss: 22.9304 - val_loss: 47.8180\n",
      "Epoch 59/100\n",
      "5/5 [==============================] - 0s 9ms/step - loss: 44.5371 - val_loss: 20.8208\n",
      "Epoch 60/100\n",
      "5/5 [==============================] - 0s 8ms/step - loss: 23.7754 - val_loss: 26.3153\n",
      "Epoch 61/100\n",
      "5/5 [==============================] - 0s 7ms/step - loss: 38.6800 - val_loss: 40.8662\n",
      "Epoch 62/100\n",
      "5/5 [==============================] - 0s 7ms/step - loss: 90.0556 - val_loss: 45.7486\n",
      "Epoch 63/100\n",
      "5/5 [==============================] - 0s 9ms/step - loss: 38.4223 - val_loss: 27.9163\n",
      "Epoch 64/100\n",
      "5/5 [==============================] - 0s 8ms/step - loss: 32.0842 - val_loss: 27.5835\n",
      "Epoch 65/100\n",
      "5/5 [==============================] - 0s 10ms/step - loss: 25.2640 - val_loss: 21.5150\n",
      "Epoch 66/100\n",
      "5/5 [==============================] - 0s 8ms/step - loss: 35.3447 - val_loss: 17.9352\n",
      "Epoch 67/100\n",
      "5/5 [==============================] - 0s 9ms/step - loss: 26.8155 - val_loss: 34.4823\n",
      "Epoch 68/100\n",
      "5/5 [==============================] - 0s 8ms/step - loss: 37.1010 - val_loss: 17.2114\n",
      "Epoch 69/100\n",
      "5/5 [==============================] - 0s 9ms/step - loss: 24.9648 - val_loss: 27.4126\n",
      "Epoch 70/100\n",
      "5/5 [==============================] - 0s 8ms/step - loss: 25.1280 - val_loss: 36.9011\n",
      "Epoch 71/100\n",
      "5/5 [==============================] - 0s 8ms/step - loss: 41.8848 - val_loss: 19.2886\n",
      "Epoch 72/100\n",
      "5/5 [==============================] - 0s 8ms/step - loss: 27.3166 - val_loss: 17.8360\n",
      "Epoch 73/100\n",
      "5/5 [==============================] - 0s 7ms/step - loss: 27.7183 - val_loss: 27.7444\n",
      "Epoch 74/100\n",
      "5/5 [==============================] - 0s 9ms/step - loss: 30.1907 - val_loss: 20.2340\n",
      "Epoch 75/100\n",
      "5/5 [==============================] - 0s 8ms/step - loss: 24.9637 - val_loss: 22.0034\n",
      "Epoch 76/100\n",
      "5/5 [==============================] - 0s 8ms/step - loss: 27.0256 - val_loss: 15.8596\n",
      "Epoch 77/100\n",
      "5/5 [==============================] - 0s 8ms/step - loss: 23.5927 - val_loss: 19.6245\n",
      "Epoch 78/100\n",
      "5/5 [==============================] - 0s 11ms/step - loss: 49.0424 - val_loss: 23.7499\n",
      "Epoch 79/100\n",
      "5/5 [==============================] - 0s 14ms/step - loss: 28.5791 - val_loss: 18.5033\n",
      "Epoch 80/100\n",
      "5/5 [==============================] - 0s 13ms/step - loss: 23.1544 - val_loss: 20.8320\n",
      "Epoch 81/100\n",
      "5/5 [==============================] - 0s 14ms/step - loss: 33.3350 - val_loss: 23.1307\n",
      "Epoch 82/100\n",
      "5/5 [==============================] - 0s 12ms/step - loss: 27.7073 - val_loss: 19.9189\n"
     ]
    },
    {
     "name": "stdout",
     "output_type": "stream",
     "text": [
      "Epoch 83/100\n",
      "5/5 [==============================] - 0s 12ms/step - loss: 25.6790 - val_loss: 56.1997\n",
      "Epoch 84/100\n",
      "5/5 [==============================] - 0s 12ms/step - loss: 50.7292 - val_loss: 24.2612\n",
      "Epoch 85/100\n",
      "5/5 [==============================] - 0s 10ms/step - loss: 25.7805 - val_loss: 23.1399\n",
      "Epoch 86/100\n",
      "5/5 [==============================] - 0s 9ms/step - loss: 26.6063 - val_loss: 33.2447\n",
      "Epoch 87/100\n",
      "5/5 [==============================] - 0s 10ms/step - loss: 44.0817 - val_loss: 27.4841\n",
      "Epoch 88/100\n",
      "5/5 [==============================] - 0s 10ms/step - loss: 26.2794 - val_loss: 25.5219\n",
      "Epoch 89/100\n",
      "5/5 [==============================] - 0s 11ms/step - loss: 66.8004 - val_loss: 23.6418\n",
      "Epoch 90/100\n",
      "5/5 [==============================] - 0s 10ms/step - loss: 24.1576 - val_loss: 35.5403\n",
      "Epoch 91/100\n",
      "5/5 [==============================] - 0s 10ms/step - loss: 27.7678 - val_loss: 17.6816\n",
      "Epoch 92/100\n",
      "5/5 [==============================] - 0s 8ms/step - loss: 23.3883 - val_loss: 23.1122\n",
      "Epoch 93/100\n",
      "5/5 [==============================] - 0s 10ms/step - loss: 30.6136 - val_loss: 17.1033\n",
      "Epoch 94/100\n",
      "5/5 [==============================] - 0s 11ms/step - loss: 24.4430 - val_loss: 17.9066\n",
      "Epoch 95/100\n",
      "5/5 [==============================] - 0s 10ms/step - loss: 29.8447 - val_loss: 19.3887\n",
      "Epoch 96/100\n",
      "5/5 [==============================] - 0s 7ms/step - loss: 27.6117 - val_loss: 29.5098\n",
      "Epoch 97/100\n",
      "5/5 [==============================] - 0s 10ms/step - loss: 30.1957 - val_loss: 32.2529\n",
      "Epoch 98/100\n",
      "5/5 [==============================] - 0s 9ms/step - loss: 26.5495 - val_loss: 32.2108\n",
      "Epoch 99/100\n",
      "5/5 [==============================] - 0s 7ms/step - loss: 28.4551 - val_loss: 24.0852\n",
      "Epoch 100/100\n",
      "5/5 [==============================] - 0s 7ms/step - loss: 26.3111 - val_loss: 36.1550\n"
     ]
    },
    {
     "data": {
      "text/plain": [
       "<tensorflow.python.keras.callbacks.History at 0x13bea7750>"
      ]
     },
     "execution_count": 32,
     "metadata": {},
     "output_type": "execute_result"
    }
   ],
   "source": [
    "model.fit(input_features, labels, validation_split=0.25, epochs=100, batch_size=64)"
   ]
  },
  {
   "cell_type": "code",
   "execution_count": 31,
   "metadata": {},
   "outputs": [
    {
     "name": "stdout",
     "output_type": "stream",
     "text": [
      "Model: \"sequential\"\n",
      "_________________________________________________________________\n",
      "Layer (type)                 Output Shape              Param #   \n",
      "=================================================================\n",
      "dense (Dense)                multiple                  240       \n",
      "_________________________________________________________________\n",
      "dense_1 (Dense)              multiple                  544       \n",
      "_________________________________________________________________\n",
      "dense_2 (Dense)              multiple                  33        \n",
      "=================================================================\n",
      "Total params: 817\n",
      "Trainable params: 817\n",
      "Non-trainable params: 0\n",
      "_________________________________________________________________\n"
     ]
    }
   ],
   "source": [
    "model.summary()"
   ]
  },
  {
   "cell_type": "markdown",
   "metadata": {},
   "source": [
    "### 调参"
   ]
  },
  {
   "cell_type": "code",
   "execution_count": 33,
   "metadata": {},
   "outputs": [],
   "source": [
    "model = tf.keras.Sequential()\n",
    "model.add(layers.Dense(16,kernel_initializer='random_normal'))\n",
    "model.add(layers.Dense(32,kernel_initializer='random_normal'))\n",
    "model.add(layers.Dense(1,kernel_initializer='random_normal'))"
   ]
  },
  {
   "cell_type": "code",
   "execution_count": 34,
   "metadata": {},
   "outputs": [
    {
     "name": "stdout",
     "output_type": "stream",
     "text": [
      "Epoch 1/100\n",
      "WARNING:tensorflow:Layer dense_3 is casting an input tensor from dtype float64 to the layer's dtype of float32, which is new behavior in TensorFlow 2.  The layer has dtype float32 because it's dtype defaults to floatx.\n",
      "\n",
      "If you intended to run this layer in float32, you can safely ignore this warning. If in doubt, this warning is likely only an issue if you are porting a TensorFlow 1.X model to TensorFlow 2.\n",
      "\n",
      "To change all layers to have dtype float64 by default, call `tf.keras.backend.set_floatx('float64')`. To change just this layer, pass dtype='float64' to the layer constructor. If you are the author of this layer, you can disable autocasting by passing autocast=False to the base Layer constructor.\n",
      "\n",
      "5/5 [==============================] - 0s 18ms/step - loss: 4388.5396 - val_loss: 2868.4543\n",
      "Epoch 2/100\n",
      "5/5 [==============================] - 0s 9ms/step - loss: 4285.7388 - val_loss: 2777.6221\n",
      "Epoch 3/100\n",
      "5/5 [==============================] - 0s 9ms/step - loss: 4130.6445 - val_loss: 2640.0928\n",
      "Epoch 4/100\n",
      "5/5 [==============================] - 0s 8ms/step - loss: 3674.0430 - val_loss: 2514.6028\n",
      "Epoch 5/100\n",
      "5/5 [==============================] - 0s 9ms/step - loss: 992.7341 - val_loss: 2413.4207\n",
      "Epoch 6/100\n",
      "5/5 [==============================] - 0s 10ms/step - loss: 120.4486 - val_loss: 1744.2842\n",
      "Epoch 7/100\n",
      "5/5 [==============================] - 0s 10ms/step - loss: 59.6985 - val_loss: 1296.5759\n",
      "Epoch 8/100\n",
      "5/5 [==============================] - 0s 10ms/step - loss: 48.7094 - val_loss: 1092.3728\n",
      "Epoch 9/100\n",
      "5/5 [==============================] - 0s 9ms/step - loss: 58.8815 - val_loss: 621.4785\n",
      "Epoch 10/100\n",
      "5/5 [==============================] - 0s 10ms/step - loss: 47.2506 - val_loss: 571.8564\n",
      "Epoch 11/100\n",
      "5/5 [==============================] - 0s 10ms/step - loss: 36.8698 - val_loss: 484.8195\n",
      "Epoch 12/100\n",
      "5/5 [==============================] - 0s 9ms/step - loss: 34.7882 - val_loss: 495.3842\n",
      "Epoch 13/100\n",
      "5/5 [==============================] - 0s 13ms/step - loss: 35.5187 - val_loss: 492.7883\n",
      "Epoch 14/100\n",
      "5/5 [==============================] - 0s 14ms/step - loss: 275.5274 - val_loss: 332.7984\n",
      "Epoch 15/100\n",
      "5/5 [==============================] - 0s 12ms/step - loss: 49.1792 - val_loss: 424.8204\n",
      "Epoch 16/100\n",
      "5/5 [==============================] - 0s 15ms/step - loss: 57.8789 - val_loss: 331.1573\n",
      "Epoch 17/100\n",
      "5/5 [==============================] - 0s 11ms/step - loss: 28.2253 - val_loss: 210.9441\n",
      "Epoch 18/100\n",
      "5/5 [==============================] - 0s 14ms/step - loss: 75.8313 - val_loss: 127.0188\n",
      "Epoch 19/100\n",
      "5/5 [==============================] - 0s 17ms/step - loss: 38.0870 - val_loss: 154.7618\n",
      "Epoch 20/100\n",
      "5/5 [==============================] - 0s 14ms/step - loss: 40.5387 - val_loss: 101.0549\n",
      "Epoch 21/100\n",
      "5/5 [==============================] - 0s 14ms/step - loss: 60.9714 - val_loss: 106.1206\n",
      "Epoch 22/100\n",
      "5/5 [==============================] - 0s 19ms/step - loss: 27.2980 - val_loss: 72.3156\n",
      "Epoch 23/100\n",
      "5/5 [==============================] - 0s 15ms/step - loss: 35.6445 - val_loss: 107.1166\n",
      "Epoch 24/100\n",
      "5/5 [==============================] - 0s 13ms/step - loss: 27.2492 - val_loss: 106.4479\n",
      "Epoch 25/100\n",
      "5/5 [==============================] - 0s 14ms/step - loss: 28.2184 - val_loss: 115.1667\n",
      "Epoch 26/100\n",
      "5/5 [==============================] - 0s 19ms/step - loss: 30.8651 - val_loss: 54.6107\n",
      "Epoch 27/100\n",
      "5/5 [==============================] - 0s 17ms/step - loss: 25.7491 - val_loss: 48.6094\n",
      "Epoch 28/100\n",
      "5/5 [==============================] - 0s 17ms/step - loss: 26.7074 - val_loss: 47.3133\n",
      "Epoch 29/100\n",
      "5/5 [==============================] - 0s 12ms/step - loss: 24.9462 - val_loss: 30.7211\n",
      "Epoch 30/100\n",
      "5/5 [==============================] - 0s 12ms/step - loss: 28.8419 - val_loss: 47.9320\n",
      "Epoch 31/100\n",
      "5/5 [==============================] - 0s 12ms/step - loss: 26.0355 - val_loss: 74.8891\n",
      "Epoch 32/100\n",
      "5/5 [==============================] - 0s 12ms/step - loss: 33.6442 - val_loss: 50.8905\n",
      "Epoch 33/100\n",
      "5/5 [==============================] - 0s 13ms/step - loss: 32.3230 - val_loss: 35.7486\n",
      "Epoch 34/100\n",
      "5/5 [==============================] - 0s 14ms/step - loss: 49.2796 - val_loss: 37.6541\n",
      "Epoch 35/100\n",
      "5/5 [==============================] - 0s 18ms/step - loss: 33.7078 - val_loss: 26.8759\n",
      "Epoch 36/100\n",
      "5/5 [==============================] - 0s 22ms/step - loss: 32.9173 - val_loss: 25.7889\n",
      "Epoch 37/100\n",
      "5/5 [==============================] - 0s 21ms/step - loss: 29.2801 - val_loss: 30.7728\n",
      "Epoch 38/100\n",
      "5/5 [==============================] - 0s 20ms/step - loss: 27.3498 - val_loss: 42.9910\n",
      "Epoch 39/100\n",
      "5/5 [==============================] - 0s 16ms/step - loss: 28.5375 - val_loss: 77.1102\n",
      "Epoch 40/100\n",
      "5/5 [==============================] - 0s 19ms/step - loss: 115.3859 - val_loss: 35.1622\n",
      "Epoch 41/100\n",
      "5/5 [==============================] - 0s 17ms/step - loss: 26.7427 - val_loss: 36.7583\n",
      "Epoch 42/100\n",
      "5/5 [==============================] - 0s 15ms/step - loss: 28.3281 - val_loss: 30.2526\n",
      "Epoch 43/100\n",
      "5/5 [==============================] - 0s 14ms/step - loss: 26.3683 - val_loss: 32.0740\n",
      "Epoch 44/100\n",
      "5/5 [==============================] - 0s 39ms/step - loss: 28.0107 - val_loss: 18.2430\n",
      "Epoch 45/100\n",
      "5/5 [==============================] - 0s 26ms/step - loss: 28.3852 - val_loss: 39.2805\n",
      "Epoch 46/100\n",
      "5/5 [==============================] - 0s 14ms/step - loss: 28.5291 - val_loss: 23.5154\n",
      "Epoch 47/100\n",
      "5/5 [==============================] - 0s 14ms/step - loss: 28.0478 - val_loss: 49.0202\n",
      "Epoch 48/100\n",
      "5/5 [==============================] - 0s 19ms/step - loss: 33.2577 - val_loss: 36.8113\n",
      "Epoch 49/100\n",
      "5/5 [==============================] - 0s 16ms/step - loss: 26.3409 - val_loss: 35.0057\n",
      "Epoch 50/100\n",
      "5/5 [==============================] - 0s 12ms/step - loss: 34.1584 - val_loss: 28.5939\n",
      "Epoch 51/100\n",
      "5/5 [==============================] - 0s 11ms/step - loss: 25.0436 - val_loss: 27.2710\n",
      "Epoch 52/100\n",
      "5/5 [==============================] - 0s 12ms/step - loss: 37.1289 - val_loss: 31.7179\n",
      "Epoch 53/100\n",
      "5/5 [==============================] - 0s 18ms/step - loss: 28.8073 - val_loss: 36.6212\n",
      "Epoch 54/100\n",
      "5/5 [==============================] - 0s 22ms/step - loss: 29.2572 - val_loss: 30.4978\n",
      "Epoch 55/100\n",
      "5/5 [==============================] - 0s 20ms/step - loss: 38.4960 - val_loss: 24.0112\n",
      "Epoch 56/100\n",
      "5/5 [==============================] - 0s 16ms/step - loss: 32.0028 - val_loss: 23.6771\n",
      "Epoch 57/100\n",
      "5/5 [==============================] - 0s 15ms/step - loss: 29.1933 - val_loss: 28.1028\n",
      "Epoch 58/100\n",
      "5/5 [==============================] - 0s 17ms/step - loss: 47.2504 - val_loss: 25.0394\n",
      "Epoch 59/100\n",
      "5/5 [==============================] - 0s 13ms/step - loss: 42.5053 - val_loss: 53.3261\n",
      "Epoch 60/100\n",
      "5/5 [==============================] - 0s 15ms/step - loss: 34.6325 - val_loss: 25.8133\n",
      "Epoch 61/100\n",
      "5/5 [==============================] - 0s 17ms/step - loss: 30.1634 - val_loss: 28.4353\n",
      "Epoch 62/100\n",
      "5/5 [==============================] - 0s 20ms/step - loss: 34.7815 - val_loss: 18.5454\n",
      "Epoch 63/100\n",
      "5/5 [==============================] - 0s 17ms/step - loss: 23.9346 - val_loss: 25.5394\n",
      "Epoch 64/100\n",
      "5/5 [==============================] - 0s 17ms/step - loss: 26.0115 - val_loss: 25.4384\n",
      "Epoch 65/100\n",
      "5/5 [==============================] - 0s 19ms/step - loss: 25.7941 - val_loss: 20.9544\n",
      "Epoch 66/100\n",
      "5/5 [==============================] - 0s 22ms/step - loss: 23.8354 - val_loss: 38.9233\n",
      "Epoch 67/100\n",
      "5/5 [==============================] - 0s 23ms/step - loss: 43.0606 - val_loss: 27.7011\n",
      "Epoch 68/100\n",
      "5/5 [==============================] - 0s 21ms/step - loss: 33.1016 - val_loss: 27.0315\n",
      "Epoch 69/100\n",
      "5/5 [==============================] - 0s 18ms/step - loss: 31.8380 - val_loss: 20.0175\n",
      "Epoch 70/100\n",
      "5/5 [==============================] - 0s 18ms/step - loss: 25.4435 - val_loss: 22.2303\n",
      "Epoch 71/100\n",
      "5/5 [==============================] - 0s 18ms/step - loss: 30.2796 - val_loss: 19.3921\n",
      "Epoch 72/100\n",
      "5/5 [==============================] - 0s 20ms/step - loss: 26.5126 - val_loss: 24.9960\n",
      "Epoch 73/100\n",
      "5/5 [==============================] - 0s 12ms/step - loss: 28.1488 - val_loss: 21.9356\n",
      "Epoch 74/100\n",
      "5/5 [==============================] - 0s 16ms/step - loss: 24.6161 - val_loss: 27.0524\n"
     ]
    },
    {
     "name": "stdout",
     "output_type": "stream",
     "text": [
      "Epoch 75/100\n",
      "5/5 [==============================] - 0s 15ms/step - loss: 32.3277 - val_loss: 30.7795\n",
      "Epoch 76/100\n",
      "5/5 [==============================] - 0s 15ms/step - loss: 34.1124 - val_loss: 19.0548\n",
      "Epoch 77/100\n",
      "5/5 [==============================] - 0s 15ms/step - loss: 25.2179 - val_loss: 29.6618\n",
      "Epoch 78/100\n",
      "5/5 [==============================] - 0s 8ms/step - loss: 42.8004 - val_loss: 20.6805\n",
      "Epoch 79/100\n",
      "5/5 [==============================] - 0s 10ms/step - loss: 47.8072 - val_loss: 26.2329\n",
      "Epoch 80/100\n",
      "5/5 [==============================] - 0s 9ms/step - loss: 38.0986 - val_loss: 37.0214\n",
      "Epoch 81/100\n",
      "5/5 [==============================] - 0s 9ms/step - loss: 35.2926 - val_loss: 36.9249\n",
      "Epoch 82/100\n",
      "5/5 [==============================] - 0s 9ms/step - loss: 29.7820 - val_loss: 19.0604\n",
      "Epoch 83/100\n",
      "5/5 [==============================] - 0s 7ms/step - loss: 29.4868 - val_loss: 27.9308\n",
      "Epoch 84/100\n",
      "5/5 [==============================] - 0s 11ms/step - loss: 46.2312 - val_loss: 17.3054\n",
      "Epoch 85/100\n",
      "5/5 [==============================] - 0s 10ms/step - loss: 24.6804 - val_loss: 20.6858\n",
      "Epoch 86/100\n",
      "5/5 [==============================] - 0s 8ms/step - loss: 28.7956 - val_loss: 24.3271\n",
      "Epoch 87/100\n",
      "5/5 [==============================] - 0s 10ms/step - loss: 39.8933 - val_loss: 30.6330\n",
      "Epoch 88/100\n",
      "5/5 [==============================] - 0s 9ms/step - loss: 32.7719 - val_loss: 17.9481\n",
      "Epoch 89/100\n",
      "5/5 [==============================] - 0s 9ms/step - loss: 35.5471 - val_loss: 26.6750\n",
      "Epoch 90/100\n",
      "5/5 [==============================] - 0s 10ms/step - loss: 26.7406 - val_loss: 18.9257\n",
      "Epoch 91/100\n",
      "5/5 [==============================] - 0s 38ms/step - loss: 33.4221 - val_loss: 17.4029\n",
      "Epoch 92/100\n",
      "5/5 [==============================] - 0s 11ms/step - loss: 24.2143 - val_loss: 25.5427\n",
      "Epoch 93/100\n",
      "5/5 [==============================] - 0s 11ms/step - loss: 35.0852 - val_loss: 33.9736\n",
      "Epoch 94/100\n",
      "5/5 [==============================] - 0s 9ms/step - loss: 65.1144 - val_loss: 23.9294\n",
      "Epoch 95/100\n",
      "5/5 [==============================] - 0s 9ms/step - loss: 24.3498 - val_loss: 20.7486\n",
      "Epoch 96/100\n",
      "5/5 [==============================] - 0s 8ms/step - loss: 24.3963 - val_loss: 40.9675\n",
      "Epoch 97/100\n",
      "5/5 [==============================] - 0s 8ms/step - loss: 37.1508 - val_loss: 22.9960\n",
      "Epoch 98/100\n",
      "5/5 [==============================] - 0s 9ms/step - loss: 30.4243 - val_loss: 23.3184\n",
      "Epoch 99/100\n",
      "5/5 [==============================] - 0s 8ms/step - loss: 32.1238 - val_loss: 27.6491\n",
      "Epoch 100/100\n",
      "5/5 [==============================] - 0s 7ms/step - loss: 35.6163 - val_loss: 19.1636\n"
     ]
    },
    {
     "data": {
      "text/plain": [
       "<tensorflow.python.keras.callbacks.History at 0x13b628d90>"
      ]
     },
     "execution_count": 34,
     "metadata": {},
     "output_type": "execute_result"
    }
   ],
   "source": [
    "model.compile(optimizer=tf.keras.optimizers.SGD(0.001),\n",
    "             loss='mean_squared_error')\n",
    "model.fit(input_features, labels, validation_split=0.25, epochs=100, batch_size=64)"
   ]
  },
  {
   "cell_type": "markdown",
   "metadata": {},
   "source": [
    "### 加入正则化惩罚项"
   ]
  },
  {
   "cell_type": "code",
   "execution_count": 35,
   "metadata": {},
   "outputs": [
    {
     "name": "stdout",
     "output_type": "stream",
     "text": [
      "Epoch 1/100\n",
      "WARNING:tensorflow:Layer dense_6 is casting an input tensor from dtype float64 to the layer's dtype of float32, which is new behavior in TensorFlow 2.  The layer has dtype float32 because it's dtype defaults to floatx.\n",
      "\n",
      "If you intended to run this layer in float32, you can safely ignore this warning. If in doubt, this warning is likely only an issue if you are porting a TensorFlow 1.X model to TensorFlow 2.\n",
      "\n",
      "To change all layers to have dtype float64 by default, call `tf.keras.backend.set_floatx('float64')`. To change just this layer, pass dtype='float64' to the layer constructor. If you are the author of this layer, you can disable autocasting by passing autocast=False to the base Layer constructor.\n",
      "\n",
      "5/5 [==============================] - 0s 23ms/step - loss: 4390.2373 - val_loss: 2868.4998\n",
      "Epoch 2/100\n",
      "5/5 [==============================] - 0s 12ms/step - loss: 4292.4653 - val_loss: 2784.7522\n",
      "Epoch 3/100\n",
      "5/5 [==============================] - 0s 9ms/step - loss: 4172.7266 - val_loss: 2664.2441\n",
      "Epoch 4/100\n",
      "5/5 [==============================] - 0s 12ms/step - loss: 3943.6467 - val_loss: 2438.7766\n",
      "Epoch 5/100\n",
      "5/5 [==============================] - 0s 14ms/step - loss: 2835.4915 - val_loss: 2812.1042\n",
      "Epoch 6/100\n",
      "5/5 [==============================] - 0s 16ms/step - loss: 223.0375 - val_loss: 1640.5056\n",
      "Epoch 7/100\n",
      "5/5 [==============================] - 0s 14ms/step - loss: 72.4163 - val_loss: 1128.0624\n",
      "Epoch 8/100\n",
      "5/5 [==============================] - 0s 11ms/step - loss: 55.7028 - val_loss: 1025.7084\n",
      "Epoch 9/100\n",
      "5/5 [==============================] - 0s 10ms/step - loss: 43.5717 - val_loss: 729.4512\n",
      "Epoch 10/100\n",
      "5/5 [==============================] - 0s 11ms/step - loss: 36.5114 - val_loss: 680.8775\n",
      "Epoch 11/100\n",
      "5/5 [==============================] - 0s 10ms/step - loss: 38.4079 - val_loss: 493.3608\n",
      "Epoch 12/100\n",
      "5/5 [==============================] - 0s 8ms/step - loss: 39.5075 - val_loss: 385.6901\n",
      "Epoch 13/100\n",
      "5/5 [==============================] - 0s 8ms/step - loss: 31.0542 - val_loss: 284.6960\n",
      "Epoch 14/100\n",
      "5/5 [==============================] - 0s 14ms/step - loss: 49.1882 - val_loss: 299.0307\n",
      "Epoch 15/100\n",
      "5/5 [==============================] - 0s 14ms/step - loss: 35.7013 - val_loss: 150.3071\n",
      "Epoch 16/100\n",
      "5/5 [==============================] - 0s 12ms/step - loss: 40.4658 - val_loss: 242.0069\n",
      "Epoch 17/100\n",
      "5/5 [==============================] - 0s 20ms/step - loss: 30.0502 - val_loss: 159.1680\n",
      "Epoch 18/100\n",
      "5/5 [==============================] - 0s 21ms/step - loss: 38.6716 - val_loss: 150.8768\n",
      "Epoch 19/100\n",
      "5/5 [==============================] - 0s 11ms/step - loss: 38.5596 - val_loss: 118.8253\n",
      "Epoch 20/100\n",
      "5/5 [==============================] - 0s 13ms/step - loss: 29.7934 - val_loss: 100.5277\n",
      "Epoch 21/100\n",
      "5/5 [==============================] - 0s 17ms/step - loss: 30.5847 - val_loss: 109.5872\n",
      "Epoch 22/100\n",
      "5/5 [==============================] - 0s 17ms/step - loss: 51.0275 - val_loss: 67.7791\n",
      "Epoch 23/100\n",
      "5/5 [==============================] - 0s 22ms/step - loss: 32.5334 - val_loss: 48.8225\n",
      "Epoch 24/100\n",
      "5/5 [==============================] - 0s 16ms/step - loss: 28.6827 - val_loss: 82.6867\n",
      "Epoch 25/100\n",
      "5/5 [==============================] - 0s 11ms/step - loss: 47.1663 - val_loss: 45.5223\n",
      "Epoch 26/100\n",
      "5/5 [==============================] - 0s 11ms/step - loss: 32.5817 - val_loss: 77.6889\n",
      "Epoch 27/100\n",
      "5/5 [==============================] - 0s 22ms/step - loss: 106.3058 - val_loss: 67.2768\n",
      "Epoch 28/100\n",
      "5/5 [==============================] - 0s 20ms/step - loss: 28.4195 - val_loss: 70.2447\n",
      "Epoch 29/100\n",
      "5/5 [==============================] - 0s 12ms/step - loss: 25.0746 - val_loss: 34.1005\n",
      "Epoch 30/100\n",
      "5/5 [==============================] - 0s 14ms/step - loss: 29.2689 - val_loss: 29.8722\n",
      "Epoch 31/100\n",
      "5/5 [==============================] - 0s 10ms/step - loss: 27.7108 - val_loss: 35.9745\n",
      "Epoch 32/100\n",
      "5/5 [==============================] - 0s 10ms/step - loss: 48.2054 - val_loss: 33.0064\n",
      "Epoch 33/100\n",
      "5/5 [==============================] - 0s 11ms/step - loss: 26.5003 - val_loss: 25.8594\n",
      "Epoch 34/100\n",
      "5/5 [==============================] - 0s 9ms/step - loss: 29.8995 - val_loss: 62.3952\n",
      "Epoch 35/100\n",
      "5/5 [==============================] - 0s 11ms/step - loss: 44.0019 - val_loss: 52.2988\n",
      "Epoch 36/100\n",
      "5/5 [==============================] - 0s 10ms/step - loss: 27.8631 - val_loss: 31.4832\n",
      "Epoch 37/100\n",
      "5/5 [==============================] - 0s 13ms/step - loss: 25.6037 - val_loss: 33.2859\n",
      "Epoch 38/100\n",
      "5/5 [==============================] - 0s 14ms/step - loss: 35.5426 - val_loss: 51.2581\n",
      "Epoch 39/100\n",
      "5/5 [==============================] - 0s 12ms/step - loss: 55.3632 - val_loss: 44.2824\n",
      "Epoch 40/100\n",
      "5/5 [==============================] - 0s 11ms/step - loss: 35.1695 - val_loss: 35.3191\n",
      "Epoch 41/100\n",
      "5/5 [==============================] - 0s 11ms/step - loss: 29.6088 - val_loss: 29.8522\n",
      "Epoch 42/100\n",
      "5/5 [==============================] - 0s 16ms/step - loss: 27.2841 - val_loss: 26.9553\n",
      "Epoch 43/100\n",
      "5/5 [==============================] - 0s 18ms/step - loss: 29.0093 - val_loss: 50.1107\n",
      "Epoch 44/100\n",
      "5/5 [==============================] - 0s 13ms/step - loss: 48.0481 - val_loss: 26.4592\n",
      "Epoch 45/100\n",
      "5/5 [==============================] - 0s 12ms/step - loss: 33.1778 - val_loss: 56.0744\n",
      "Epoch 46/100\n",
      "5/5 [==============================] - 0s 11ms/step - loss: 37.3182 - val_loss: 29.2855\n",
      "Epoch 47/100\n",
      "5/5 [==============================] - 0s 12ms/step - loss: 29.2335 - val_loss: 61.1167\n",
      "Epoch 48/100\n",
      "5/5 [==============================] - 0s 13ms/step - loss: 47.9194 - val_loss: 21.5367\n",
      "Epoch 49/100\n",
      "5/5 [==============================] - 0s 15ms/step - loss: 26.5817 - val_loss: 20.1099\n",
      "Epoch 50/100\n",
      "5/5 [==============================] - 0s 15ms/step - loss: 30.0317 - val_loss: 25.0362\n",
      "Epoch 51/100\n",
      "5/5 [==============================] - 0s 15ms/step - loss: 41.9476 - val_loss: 29.3078\n",
      "Epoch 52/100\n",
      "5/5 [==============================] - 0s 16ms/step - loss: 39.1002 - val_loss: 35.8551\n",
      "Epoch 53/100\n",
      "5/5 [==============================] - 0s 18ms/step - loss: 28.7870 - val_loss: 23.7045\n",
      "Epoch 54/100\n",
      "5/5 [==============================] - 0s 13ms/step - loss: 28.0119 - val_loss: 30.6369\n",
      "Epoch 55/100\n",
      "5/5 [==============================] - 0s 17ms/step - loss: 29.2295 - val_loss: 23.5977\n",
      "Epoch 56/100\n",
      "5/5 [==============================] - 0s 12ms/step - loss: 39.4849 - val_loss: 25.6837\n",
      "Epoch 57/100\n",
      "5/5 [==============================] - 0s 15ms/step - loss: 33.4850 - val_loss: 18.1192\n",
      "Epoch 58/100\n",
      "5/5 [==============================] - 0s 12ms/step - loss: 28.0694 - val_loss: 22.8649\n",
      "Epoch 59/100\n",
      "5/5 [==============================] - 0s 11ms/step - loss: 26.5655 - val_loss: 19.9279\n",
      "Epoch 60/100\n",
      "5/5 [==============================] - 0s 12ms/step - loss: 25.5046 - val_loss: 32.6973\n",
      "Epoch 61/100\n",
      "5/5 [==============================] - 0s 9ms/step - loss: 28.5461 - val_loss: 23.7602\n",
      "Epoch 62/100\n",
      "5/5 [==============================] - 0s 16ms/step - loss: 25.4288 - val_loss: 21.9920\n",
      "Epoch 63/100\n",
      "5/5 [==============================] - 0s 17ms/step - loss: 29.0553 - val_loss: 33.9314\n",
      "Epoch 64/100\n",
      "5/5 [==============================] - 0s 13ms/step - loss: 29.6262 - val_loss: 18.1457\n",
      "Epoch 65/100\n",
      "5/5 [==============================] - 0s 11ms/step - loss: 24.5599 - val_loss: 24.2614\n",
      "Epoch 66/100\n",
      "5/5 [==============================] - 0s 10ms/step - loss: 53.7893 - val_loss: 24.7784\n",
      "Epoch 67/100\n",
      "5/5 [==============================] - 0s 10ms/step - loss: 48.5221 - val_loss: 38.5710\n",
      "Epoch 68/100\n",
      "5/5 [==============================] - 0s 10ms/step - loss: 34.5346 - val_loss: 24.8671\n",
      "Epoch 69/100\n",
      "5/5 [==============================] - 0s 9ms/step - loss: 29.3090 - val_loss: 39.5280\n",
      "Epoch 70/100\n",
      "5/5 [==============================] - 0s 9ms/step - loss: 41.8342 - val_loss: 23.3962\n",
      "Epoch 71/100\n",
      "5/5 [==============================] - 0s 11ms/step - loss: 30.0241 - val_loss: 23.0251\n",
      "Epoch 72/100\n",
      "5/5 [==============================] - 0s 12ms/step - loss: 30.2562 - val_loss: 32.2799\n",
      "Epoch 73/100\n",
      "5/5 [==============================] - 0s 65ms/step - loss: 51.1336 - val_loss: 23.3413\n",
      "Epoch 74/100\n",
      "5/5 [==============================] - 0s 15ms/step - loss: 26.2811 - val_loss: 30.2455\n"
     ]
    },
    {
     "name": "stdout",
     "output_type": "stream",
     "text": [
      "Epoch 75/100\n",
      "5/5 [==============================] - 0s 15ms/step - loss: 37.5443 - val_loss: 24.9608\n",
      "Epoch 76/100\n",
      "5/5 [==============================] - 0s 14ms/step - loss: 33.2303 - val_loss: 30.0481\n",
      "Epoch 77/100\n",
      "5/5 [==============================] - 0s 14ms/step - loss: 41.5605 - val_loss: 31.7606\n",
      "Epoch 78/100\n",
      "5/5 [==============================] - 0s 13ms/step - loss: 34.9613 - val_loss: 23.3976\n",
      "Epoch 79/100\n",
      "5/5 [==============================] - 0s 12ms/step - loss: 27.6859 - val_loss: 25.4198\n",
      "Epoch 80/100\n",
      "5/5 [==============================] - 0s 10ms/step - loss: 26.9675 - val_loss: 33.9418\n",
      "Epoch 81/100\n",
      "5/5 [==============================] - 0s 12ms/step - loss: 48.8429 - val_loss: 22.1301\n",
      "Epoch 82/100\n",
      "5/5 [==============================] - 0s 15ms/step - loss: 28.5679 - val_loss: 19.4347\n",
      "Epoch 83/100\n",
      "5/5 [==============================] - 0s 11ms/step - loss: 27.7265 - val_loss: 24.5590\n",
      "Epoch 84/100\n",
      "5/5 [==============================] - 0s 10ms/step - loss: 29.1328 - val_loss: 33.6780\n",
      "Epoch 85/100\n",
      "5/5 [==============================] - 0s 13ms/step - loss: 47.1127 - val_loss: 22.0791\n",
      "Epoch 86/100\n",
      "5/5 [==============================] - 0s 11ms/step - loss: 25.8727 - val_loss: 19.9845\n",
      "Epoch 87/100\n",
      "5/5 [==============================] - 0s 9ms/step - loss: 26.9250 - val_loss: 20.2043\n",
      "Epoch 88/100\n",
      "5/5 [==============================] - 0s 8ms/step - loss: 25.2122 - val_loss: 29.3335\n",
      "Epoch 89/100\n",
      "5/5 [==============================] - 0s 7ms/step - loss: 49.9057 - val_loss: 20.8453\n",
      "Epoch 90/100\n",
      "5/5 [==============================] - 0s 8ms/step - loss: 25.8342 - val_loss: 26.4523\n",
      "Epoch 91/100\n",
      "5/5 [==============================] - 0s 10ms/step - loss: 27.5454 - val_loss: 25.6371\n",
      "Epoch 92/100\n",
      "5/5 [==============================] - 0s 8ms/step - loss: 30.8455 - val_loss: 23.6778\n",
      "Epoch 93/100\n",
      "5/5 [==============================] - 0s 6ms/step - loss: 28.0432 - val_loss: 24.6042\n",
      "Epoch 94/100\n",
      "5/5 [==============================] - 0s 6ms/step - loss: 25.7169 - val_loss: 47.4311\n",
      "Epoch 95/100\n",
      "5/5 [==============================] - 0s 6ms/step - loss: 47.0700 - val_loss: 40.0323\n",
      "Epoch 96/100\n",
      "5/5 [==============================] - 0s 6ms/step - loss: 42.8456 - val_loss: 18.3553\n",
      "Epoch 97/100\n",
      "5/5 [==============================] - 0s 6ms/step - loss: 26.9204 - val_loss: 28.6391\n",
      "Epoch 98/100\n",
      "5/5 [==============================] - 0s 7ms/step - loss: 27.4153 - val_loss: 33.2151\n",
      "Epoch 99/100\n",
      "5/5 [==============================] - 0s 8ms/step - loss: 33.7316 - val_loss: 19.2814\n",
      "Epoch 100/100\n",
      "5/5 [==============================] - 0s 8ms/step - loss: 25.9806 - val_loss: 21.0754\n"
     ]
    },
    {
     "data": {
      "text/plain": [
       "<tensorflow.python.keras.callbacks.History at 0x13b824810>"
      ]
     },
     "execution_count": 35,
     "metadata": {},
     "output_type": "execute_result"
    }
   ],
   "source": [
    "model = tf.keras.Sequential()\n",
    "model.add(layers.Dense(16,kernel_initializer='random_normal',kernel_regularizer=tf.keras.regularizers.l2(0.03)))\n",
    "model.add(layers.Dense(32,kernel_initializer='random_normal',kernel_regularizer=tf.keras.regularizers.l2(0.03)))\n",
    "model.add(layers.Dense(1,kernel_initializer='random_normal',kernel_regularizer=tf.keras.regularizers.l2(0.03)))\n",
    "\n",
    "model.compile(optimizer=tf.keras.optimizers.SGD(0.001),\n",
    "             loss='mean_squared_error')\n",
    "model.fit(input_features, labels, validation_split=0.25, epochs=100, batch_size=64)"
   ]
  },
  {
   "cell_type": "markdown",
   "metadata": {},
   "source": [
    "### 预测模型结果"
   ]
  },
  {
   "cell_type": "code",
   "execution_count": 36,
   "metadata": {},
   "outputs": [
    {
     "data": {
      "text/plain": [
       "(348, 1)"
      ]
     },
     "execution_count": 36,
     "metadata": {},
     "output_type": "execute_result"
    }
   ],
   "source": [
    "predict = model.predict(input_features)\n",
    "predict.shape"
   ]
  },
  {
   "cell_type": "code",
   "execution_count": 37,
   "metadata": {},
   "outputs": [],
   "source": [
    "# 创建一个表格来存日期和其对应的标签数值\n",
    "true_data = pd.DataFrame(data = {'date': dates, 'actual': labels})"
   ]
  },
  {
   "cell_type": "code",
   "execution_count": 38,
   "metadata": {},
   "outputs": [
    {
     "data": {
      "text/html": [
       "<div>\n",
       "<style scoped>\n",
       "    .dataframe tbody tr th:only-of-type {\n",
       "        vertical-align: middle;\n",
       "    }\n",
       "\n",
       "    .dataframe tbody tr th {\n",
       "        vertical-align: top;\n",
       "    }\n",
       "\n",
       "    .dataframe thead th {\n",
       "        text-align: right;\n",
       "    }\n",
       "</style>\n",
       "<table border=\"1\" class=\"dataframe\">\n",
       "  <thead>\n",
       "    <tr style=\"text-align: right;\">\n",
       "      <th></th>\n",
       "      <th>date</th>\n",
       "      <th>actual</th>\n",
       "    </tr>\n",
       "  </thead>\n",
       "  <tbody>\n",
       "    <tr>\n",
       "      <th>0</th>\n",
       "      <td>2016-01-01</td>\n",
       "      <td>45</td>\n",
       "    </tr>\n",
       "    <tr>\n",
       "      <th>1</th>\n",
       "      <td>2016-01-02</td>\n",
       "      <td>44</td>\n",
       "    </tr>\n",
       "    <tr>\n",
       "      <th>2</th>\n",
       "      <td>2016-01-03</td>\n",
       "      <td>41</td>\n",
       "    </tr>\n",
       "    <tr>\n",
       "      <th>3</th>\n",
       "      <td>2016-01-04</td>\n",
       "      <td>40</td>\n",
       "    </tr>\n",
       "    <tr>\n",
       "      <th>4</th>\n",
       "      <td>2016-01-05</td>\n",
       "      <td>44</td>\n",
       "    </tr>\n",
       "    <tr>\n",
       "      <th>...</th>\n",
       "      <td>...</td>\n",
       "      <td>...</td>\n",
       "    </tr>\n",
       "    <tr>\n",
       "      <th>343</th>\n",
       "      <td>2016-12-27</td>\n",
       "      <td>47</td>\n",
       "    </tr>\n",
       "    <tr>\n",
       "      <th>344</th>\n",
       "      <td>2016-12-28</td>\n",
       "      <td>48</td>\n",
       "    </tr>\n",
       "    <tr>\n",
       "      <th>345</th>\n",
       "      <td>2016-12-29</td>\n",
       "      <td>48</td>\n",
       "    </tr>\n",
       "    <tr>\n",
       "      <th>346</th>\n",
       "      <td>2016-12-30</td>\n",
       "      <td>57</td>\n",
       "    </tr>\n",
       "    <tr>\n",
       "      <th>347</th>\n",
       "      <td>2016-12-31</td>\n",
       "      <td>40</td>\n",
       "    </tr>\n",
       "  </tbody>\n",
       "</table>\n",
       "<p>348 rows × 2 columns</p>\n",
       "</div>"
      ],
      "text/plain": [
       "          date  actual\n",
       "0   2016-01-01      45\n",
       "1   2016-01-02      44\n",
       "2   2016-01-03      41\n",
       "3   2016-01-04      40\n",
       "4   2016-01-05      44\n",
       "..         ...     ...\n",
       "343 2016-12-27      47\n",
       "344 2016-12-28      48\n",
       "345 2016-12-29      48\n",
       "346 2016-12-30      57\n",
       "347 2016-12-31      40\n",
       "\n",
       "[348 rows x 2 columns]"
      ]
     },
     "execution_count": 38,
     "metadata": {},
     "output_type": "execute_result"
    }
   ],
   "source": [
    "true_data"
   ]
  },
  {
   "cell_type": "code",
   "execution_count": 39,
   "metadata": {},
   "outputs": [],
   "source": [
    "# 同理，再创建一个来存日期和其对应的模型预测值\n",
    "months = features[:, feature_list.index('month')]\n",
    "days = features[:, feature_list.index('day')]\n",
    "years = features[:, feature_list.index('year')]\n",
    "\n",
    "test_dates = [str(int(year)) + '-' + str(int(month)) + '-' + str(int(day)) for year, month, day in zip(years, months, days)]\n",
    "\n",
    "test_dates = [datetime.datetime.strptime(date, '%Y-%m-%d') for date in test_dates]\n",
    "\n",
    "predictions_data = pd.DataFrame(data = {'date': test_dates, 'prediction': predict.reshape(-1)}) "
   ]
  },
  {
   "cell_type": "code",
   "execution_count": 40,
   "metadata": {},
   "outputs": [
    {
     "data": {
      "text/html": [
       "<div>\n",
       "<style scoped>\n",
       "    .dataframe tbody tr th:only-of-type {\n",
       "        vertical-align: middle;\n",
       "    }\n",
       "\n",
       "    .dataframe tbody tr th {\n",
       "        vertical-align: top;\n",
       "    }\n",
       "\n",
       "    .dataframe thead th {\n",
       "        text-align: right;\n",
       "    }\n",
       "</style>\n",
       "<table border=\"1\" class=\"dataframe\">\n",
       "  <thead>\n",
       "    <tr style=\"text-align: right;\">\n",
       "      <th></th>\n",
       "      <th>date</th>\n",
       "      <th>prediction</th>\n",
       "    </tr>\n",
       "  </thead>\n",
       "  <tbody>\n",
       "    <tr>\n",
       "      <th>0</th>\n",
       "      <td>2016-01-01</td>\n",
       "      <td>51.413925</td>\n",
       "    </tr>\n",
       "    <tr>\n",
       "      <th>1</th>\n",
       "      <td>2016-01-02</td>\n",
       "      <td>54.801258</td>\n",
       "    </tr>\n",
       "    <tr>\n",
       "      <th>2</th>\n",
       "      <td>2016-01-03</td>\n",
       "      <td>49.668713</td>\n",
       "    </tr>\n",
       "    <tr>\n",
       "      <th>3</th>\n",
       "      <td>2016-01-04</td>\n",
       "      <td>46.830349</td>\n",
       "    </tr>\n",
       "    <tr>\n",
       "      <th>4</th>\n",
       "      <td>2016-01-05</td>\n",
       "      <td>46.972004</td>\n",
       "    </tr>\n",
       "    <tr>\n",
       "      <th>...</th>\n",
       "      <td>...</td>\n",
       "      <td>...</td>\n",
       "    </tr>\n",
       "    <tr>\n",
       "      <th>343</th>\n",
       "      <td>2016-12-27</td>\n",
       "      <td>41.441853</td>\n",
       "    </tr>\n",
       "    <tr>\n",
       "      <th>344</th>\n",
       "      <td>2016-12-28</td>\n",
       "      <td>45.440357</td>\n",
       "    </tr>\n",
       "    <tr>\n",
       "      <th>345</th>\n",
       "      <td>2016-12-29</td>\n",
       "      <td>47.945438</td>\n",
       "    </tr>\n",
       "    <tr>\n",
       "      <th>346</th>\n",
       "      <td>2016-12-30</td>\n",
       "      <td>46.212223</td>\n",
       "    </tr>\n",
       "    <tr>\n",
       "      <th>347</th>\n",
       "      <td>2016-12-31</td>\n",
       "      <td>56.323368</td>\n",
       "    </tr>\n",
       "  </tbody>\n",
       "</table>\n",
       "<p>348 rows × 2 columns</p>\n",
       "</div>"
      ],
      "text/plain": [
       "          date  prediction\n",
       "0   2016-01-01   51.413925\n",
       "1   2016-01-02   54.801258\n",
       "2   2016-01-03   49.668713\n",
       "3   2016-01-04   46.830349\n",
       "4   2016-01-05   46.972004\n",
       "..         ...         ...\n",
       "343 2016-12-27   41.441853\n",
       "344 2016-12-28   45.440357\n",
       "345 2016-12-29   47.945438\n",
       "346 2016-12-30   46.212223\n",
       "347 2016-12-31   56.323368\n",
       "\n",
       "[348 rows x 2 columns]"
      ]
     },
     "execution_count": 40,
     "metadata": {},
     "output_type": "execute_result"
    }
   ],
   "source": [
    "predictions_data"
   ]
  },
  {
   "cell_type": "code",
   "execution_count": 41,
   "metadata": {},
   "outputs": [
    {
     "data": {
      "text/plain": [
       "Text(0.5, 1.0, 'Actual and Predicted Values')"
      ]
     },
     "execution_count": 41,
     "metadata": {},
     "output_type": "execute_result"
    },
    {
     "data": {
      "image/png": "[encoded data removed]",
      "text/plain": [
       "<Figure size 432x288 with 1 Axes>"
      ]
     },
     "metadata": {},
     "output_type": "display_data"
    }
   ],
   "source": [
    "# 真实值\n",
    "plt.plot(true_data['date'], true_data['actual'], 'b-', label = 'actual')\n",
    "\n",
    "# 预测值\n",
    "plt.plot(predictions_data['date'], predictions_data['prediction'], 'ro', label = 'prediction')\n",
    "plt.xticks(rotation = '60'); \n",
    "plt.legend()\n",
    "\n",
    "# 图名\n",
    "plt.xlabel('Date'); plt.ylabel('Maximum Temperature (F)'); plt.title('Actual and Predicted Values')"
   ]
  },
  {
   "cell_type": "code",
   "execution_count": null,
   "metadata": {},
   "outputs": [],
   "source": []
  }
 ],
 "metadata": {
  "kernelspec": {
   "display_name": "Python 3",
   "language": "python",
   "name": "python3"
  },
  "language_info": {
   "codemirror_mode": {
    "name": "ipython",
    "version": 3
   },
   "file_extension": ".py",
   "mimetype": "text/x-python",
   "name": "python",
   "nbconvert_exporter": "python",
   "pygments_lexer": "ipython3",
   "version": "3.7.7"
  }
 },
 "nbformat": 4,
 "nbformat_minor": 2
}
